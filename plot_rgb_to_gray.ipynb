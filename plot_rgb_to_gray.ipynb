{
  "cells": [
    {
      "cell_type": "code",
      "execution_count": null,
      "metadata": {
        "collapsed": false
      },
      "outputs": [],
      "source": [
        "%matplotlib inline"
      ]
    },
    {
      "cell_type": "markdown",
      "metadata": {},
      "source": [
        "\n",
        "# RGB to grayscale\n",
        "\n",
        "This example converts an image with RGB channels into an image with a single\n",
        "grayscale channel.\n",
        "\n",
        "The value of each grayscale pixel is calculated as the weighted sum of the\n",
        "corresponding red, green and blue pixels as::\n",
        "\n",
        "        Y = 0.2125 R + 0.7154 G + 0.0721 B\n",
        "\n",
        "These weights are used by CRT phosphors as they better represent human\n",
        "perception of red, green and blue than equal weights. [1]_\n",
        "\n",
        "## References\n",
        ".. [1] http://poynton.ca/PDFs/ColorFAQ.pdf\n"
      ]
    },
    {
      "cell_type": "code",
      "execution_count": null,
      "metadata": {
        "collapsed": false
      },
      "outputs": [],
      "source": [
        "import matplotlib.pyplot as plt\n",
        "\n",
        "from skimage import data\n",
        "from skimage.color import rgb2gray\n",
        "\n",
        "original = data.astronaut()\n",
        "grayscale = rgb2gray(original)\n",
        "\n",
        "fig, axes = plt.subplots(1, 2, figsize=(8, 4))\n",
        "ax = axes.ravel()\n",
        "\n",
        "ax[0].imshow(original)\n",
        "ax[0].set_title(\"Original\")\n",
        "ax[1].imshow(grayscale, cmap=plt.cm.gray)\n",
        "ax[1].set_title(\"Grayscale\")\n",
        "\n",
        "fig.tight_layout()\n",
        "plt.show()"
      ]
    }
  ],
  "metadata": {
    "kernelspec": {
      "display_name": "Python 3.10.5 64-bit",
      "language": "python",
      "name": "python3"
    },
    "language_info": {
      "codemirror_mode": {
        "name": "ipython",
        "version": 3
      },
      "file_extension": ".py",
      "mimetype": "text/x-python",
      "name": "python",
      "nbconvert_exporter": "python",
      "pygments_lexer": "ipython3",
      "version": "3.10.5"
    },
    "vscode": {
      "interpreter": {
        "hash": "e14c21a51f5a39258fa4894e91e21adb15097db6c58fc4d6e03774cd2324624b"
      }
    }
  },
  "nbformat": 4,
  "nbformat_minor": 0
}
